{
 "cells": [
  {
   "cell_type": "code",
   "execution_count": null,
   "id": "a18bb0ec",
   "metadata": {},
   "outputs": [],
   "source": [
    "# import libraries\n",
    "from bs4 import BeautifulSoup\n",
    "import pandas as pd\n",
    "import requests"
   ]
  },
  {
   "cell_type": "markdown",
   "id": "807640b8",
   "metadata": {},
   "source": [
    "# Extracting Laptops Data from Flipkart"
   ]
  },
  {
   "cell_type": "code",
   "execution_count": null,
   "id": "ba26dc09",
   "metadata": {},
   "outputs": [],
   "source": [
    "# create required lists\n",
    "item_name=[]\n",
    "price=[]\n",
    "ratings=[]\n",
    "discount = []\n",
    "original_price=[]  "
   ]
  },
  {
   "cell_type": "code",
   "execution_count": null,
   "id": "dd40acfb",
   "metadata": {},
   "outputs": [],
   "source": [
    "for i in range(36):\n",
    "    \n",
    "    print (\"Loop:\",i)\n",
    "    print(\"page_no:\",i)\n",
    "    i=str(i)\n",
    "    \n",
    "    url = \"https://www.flipkart.com/search?q=laptop&otracker=search&otracker1=search&marketplace=FLIPKART&as-show=on&as=off&page=\"+i\n",
    "    \n",
    "    page=requests.get(url)\n",
    "    \n",
    "    soup=BeautifulSoup(page.text,'lxml')\n",
    "    \n",
    "    all_tags=soup.find_all('a',{'class':'_1fQZEK'})\n",
    "    \n",
    "    for info in all_tags:\n",
    "        name=info.find('div',{'class':'_4rR01T'})\n",
    "        item_name.append(name.text)\n",
    "    \n",
    "        cost=info.find('div',{'class':'_30jeq3 _1_WHN1'})\n",
    "        price.append(cost.text)\n",
    "    \n",
    "        if info.find('div',{'class':'_3I9_wc _27UcVY'}) is not None:\n",
    "            or_price=info.find('div',{'class':'_3I9_wc _27UcVY'}).text\n",
    "            original_price.append(or_price)\n",
    "        else:\n",
    "            original_price.append(0)\n",
    "    \n",
    "        if info.find('div',{'class':'_3Ay6Sb'}) is not None:\n",
    "            disc=info.find('div',{'class':'_3Ay6Sb'}).text\n",
    "            discount.append(disc)\n",
    "        else:\n",
    "            discount.append(0)\n",
    "    \n",
    "        if info.find('div',{'class':'_3LWZlK'}) is not None:\n",
    "            rate=info.find('div',{'class':'_3LWZlK'})\n",
    "            ratings.append(rate.text)\n",
    "        else:\n",
    "            ratings.append(0)\n",
    "        \n",
    "        Final_data = pd.DataFrame({'Laptop name':item_name,'Price': price,'Original Price':original_price,'Discount':discount,'Ratings': ratings})\n",
    "        print(Final_data)\n",
    "        "
   ]
  },
  {
   "cell_type": "code",
   "execution_count": null,
   "id": "8fba1728",
   "metadata": {},
   "outputs": [],
   "source": [
    "Final_data"
   ]
  },
  {
   "cell_type": "code",
   "execution_count": null,
   "id": "433d1416",
   "metadata": {},
   "outputs": [],
   "source": [
    "Final_data.to_excel('Laptop_data.xlsx',index=False)"
   ]
  },
  {
   "cell_type": "code",
   "execution_count": null,
   "id": "ee629da9",
   "metadata": {},
   "outputs": [],
   "source": []
  },
  {
   "cell_type": "code",
   "execution_count": null,
   "id": "3db5b516",
   "metadata": {},
   "outputs": [],
   "source": []
  },
  {
   "cell_type": "code",
   "execution_count": null,
   "id": "599beb4f",
   "metadata": {},
   "outputs": [],
   "source": []
  }
 ],
 "metadata": {
  "kernelspec": {
   "display_name": "Python 3 (ipykernel)",
   "language": "python",
   "name": "python3"
  },
  "language_info": {
   "codemirror_mode": {
    "name": "ipython",
    "version": 3
   },
   "file_extension": ".py",
   "mimetype": "text/x-python",
   "name": "python",
   "nbconvert_exporter": "python",
   "pygments_lexer": "ipython3",
   "version": "3.9.7"
  }
 },
 "nbformat": 4,
 "nbformat_minor": 5
}
